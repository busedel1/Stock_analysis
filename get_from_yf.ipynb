{
 "cells": [
  {
   "cell_type": "markdown",
   "metadata": {},
   "source": [
    "## <span style=\"color:blue\">Pythonでの株価のデータ取得</span>"
   ]
  },
  {
   "cell_type": "markdown",
   "metadata": {},
   "source": [
    "Yahooファイナンスからの株価データを取得したい．\n",
    "\n",
    "**内容**\n",
    "- yahooファイナンスのホームページ上にある株価情報を取得.以下がそのホームページの例\n",
    "\n",
    "![Ex1](fig/yahoofinance_ex.png)\n",
    "\n",
    "- 株価のローソクチャート\n",
    "- 移動平均線，出来高の追加\n",
    "\n",
    "**問題点**\n",
    "- yahooはスプレイティング禁止\n",
    "    - このプログラム自体もダメ?\n",
    "- 本プログラムの取得できるデータは最長で約1か月と短い\n",
    "    - 違うサイトから取得すべき，例えば[[ここ]](https://valuekabu.net/price-index-download/)を参考に\n",
    "\n",
    "**参考**\n",
    "- [[1]](https://qiita.com/SacredTubes/items/4938157794e840cbc6e5)：yahooファイナンスからの情報取得の方法\n",
    "- [[2]](https://note.nkmk.me/python-pandas-matplotlib-candlestick-chart/)：ローソクチャートや移動平均線，出来高の図"
   ]
  },
  {
   "cell_type": "markdown",
   "metadata": {},
   "source": [
    "### ライブラリのインポート"
   ]
  },
  {
   "cell_type": "code",
   "execution_count": 1,
   "metadata": {},
   "outputs": [],
   "source": [
    "import datetime as dt\n",
    "import pandas as pd\n",
    "import matplotlib.pyplot as plt\n",
    "import matplotlib.dates as mdates\n",
    "import mpl_finance"
   ]
  },
  {
   "cell_type": "markdown",
   "metadata": {},
   "source": [
    "### 株の銘柄コードと指定期間"
   ]
  },
  {
   "cell_type": "code",
   "execution_count": null,
   "metadata": {},
   "outputs": [],
   "source": [
    "stockCode='4385.T';#'銘柄コード.市場コード'\n",
    "DateStrings = ['2018-08-26','2019-09-03']; #開始日,終了日"
   ]
  },
  {
   "cell_type": "code",
   "execution_count": 3,
   "metadata": {},
   "outputs": [],
   "source": [
    "sDateTmp= dt.datetime.strptime(DateStrings[0],'%Y-%m-%d')\n",
    "eDateTmp= dt.datetime.strptime(DateStrings[1],'%Y-%m-%d')"
   ]
  },
  {
   "cell_type": "markdown",
   "metadata": {},
   "source": [
    "### Yahooファイナンスからデータ読み込み"
   ]
  },
  {
   "cell_type": "code",
   "execution_count": 4,
   "metadata": {},
   "outputs": [],
   "source": [
    "baseURLTimeseries = \"https://info.finance.yahoo.co.jp/history/?code=\";\n",
    "getURL = baseURLTimeseries+stockCode+\"&sy=\"+str(sDateTmp.year)+\\\n",
    "        \"&sm=\"+str(sDateTmp.month)+\"&sd=\"+str(sDateTmp.day)+\\\n",
    "        \"&ey=\"+str(eDateTmp.year)+\"&em=\"+str(eDateTmp.month)+\\\n",
    "        \"&ed=\"+str(eDateTmp.day)+\"&tm=d\";\n",
    "str = pd.read_html(getURL);"
   ]
  },
  {
   "cell_type": "markdown",
   "metadata": {},
   "source": [
    "### 銘柄の名前・現在の株価・前日比"
   ]
  },
  {
   "cell_type": "code",
   "execution_count": 5,
   "metadata": {},
   "outputs": [
    {
     "data": {
      "text/html": [
       "<div>\n",
       "<style scoped>\n",
       "    .dataframe tbody tr th:only-of-type {\n",
       "        vertical-align: middle;\n",
       "    }\n",
       "\n",
       "    .dataframe tbody tr th {\n",
       "        vertical-align: top;\n",
       "    }\n",
       "\n",
       "    .dataframe thead th {\n",
       "        text-align: right;\n",
       "    }\n",
       "</style>\n",
       "<table border=\"1\" class=\"dataframe\">\n",
       "  <thead>\n",
       "    <tr style=\"text-align: right;\">\n",
       "      <th></th>\n",
       "      <th>銘柄名</th>\n",
       "      <th>現在の価格</th>\n",
       "      <th>前日比</th>\n",
       "    </tr>\n",
       "  </thead>\n",
       "  <tbody>\n",
       "    <tr>\n",
       "      <th>0</th>\n",
       "      <td>(株)メルカリ</td>\n",
       "      <td>2153</td>\n",
       "      <td>前日比+96（+4.67%）</td>\n",
       "    </tr>\n",
       "  </tbody>\n",
       "</table>\n",
       "</div>"
      ],
      "text/plain": [
       "       銘柄名  現在の価格             前日比\n",
       "0  (株)メルカリ   2153  前日比+96（+4.67%）"
      ]
     },
     "execution_count": 5,
     "metadata": {},
     "output_type": "execute_result"
    }
   ],
   "source": [
    "stock_name=str[0];\n",
    "stock_name.drop(columns=1).rename(columns={0:\"銘柄名\",2:\"現在の価格\", 3:\"前日比\"})"
   ]
  },
  {
   "cell_type": "markdown",
   "metadata": {},
   "source": [
    "### 指定期間での株価の情報"
   ]
  },
  {
   "cell_type": "code",
   "execution_count": 6,
   "metadata": {},
   "outputs": [
    {
     "data": {
      "text/html": [
       "<div>\n",
       "<style scoped>\n",
       "    .dataframe tbody tr th:only-of-type {\n",
       "        vertical-align: middle;\n",
       "    }\n",
       "\n",
       "    .dataframe tbody tr th {\n",
       "        vertical-align: top;\n",
       "    }\n",
       "\n",
       "    .dataframe thead th {\n",
       "        text-align: right;\n",
       "    }\n",
       "</style>\n",
       "<table border=\"1\" class=\"dataframe\">\n",
       "  <thead>\n",
       "    <tr style=\"text-align: right;\">\n",
       "      <th></th>\n",
       "      <th>始値</th>\n",
       "      <th>高値</th>\n",
       "      <th>安値</th>\n",
       "      <th>終値</th>\n",
       "      <th>出来高</th>\n",
       "      <th>調整後終値*</th>\n",
       "    </tr>\n",
       "    <tr>\n",
       "      <th>日付</th>\n",
       "      <th></th>\n",
       "      <th></th>\n",
       "      <th></th>\n",
       "      <th></th>\n",
       "      <th></th>\n",
       "      <th></th>\n",
       "    </tr>\n",
       "  </thead>\n",
       "  <tbody>\n",
       "    <tr>\n",
       "      <th>2019-09-03</th>\n",
       "      <td>2568</td>\n",
       "      <td>2623</td>\n",
       "      <td>2540</td>\n",
       "      <td>2567</td>\n",
       "      <td>803800</td>\n",
       "      <td>2567</td>\n",
       "    </tr>\n",
       "    <tr>\n",
       "      <th>2019-09-02</th>\n",
       "      <td>2515</td>\n",
       "      <td>2615</td>\n",
       "      <td>2515</td>\n",
       "      <td>2588</td>\n",
       "      <td>968900</td>\n",
       "      <td>2588</td>\n",
       "    </tr>\n",
       "    <tr>\n",
       "      <th>2019-08-30</th>\n",
       "      <td>2449</td>\n",
       "      <td>2510</td>\n",
       "      <td>2437</td>\n",
       "      <td>2485</td>\n",
       "      <td>659700</td>\n",
       "      <td>2485</td>\n",
       "    </tr>\n",
       "    <tr>\n",
       "      <th>2019-08-29</th>\n",
       "      <td>2448</td>\n",
       "      <td>2481</td>\n",
       "      <td>2435</td>\n",
       "      <td>2451</td>\n",
       "      <td>758800</td>\n",
       "      <td>2451</td>\n",
       "    </tr>\n",
       "    <tr>\n",
       "      <th>2019-08-28</th>\n",
       "      <td>2361</td>\n",
       "      <td>2487</td>\n",
       "      <td>2345</td>\n",
       "      <td>2472</td>\n",
       "      <td>1202600</td>\n",
       "      <td>2472</td>\n",
       "    </tr>\n",
       "  </tbody>\n",
       "</table>\n",
       "</div>"
      ],
      "text/plain": [
       "              始値    高値    安値    終値      出来高  調整後終値*\n",
       "日付                                                 \n",
       "2019-09-03  2568  2623  2540  2567   803800    2567\n",
       "2019-09-02  2515  2615  2515  2588   968900    2588\n",
       "2019-08-30  2449  2510  2437  2485   659700    2485\n",
       "2019-08-29  2448  2481  2435  2451   758800    2451\n",
       "2019-08-28  2361  2487  2345  2472  1202600    2472"
      ]
     },
     "execution_count": 6,
     "metadata": {},
     "output_type": "execute_result"
    }
   ],
   "source": [
    "stock_info=str[1].replace('(\\d*)年(\\d*)月(\\d*)日', r'\\1-\\2-\\3', regex=True)#年月日表記を数字のみ表現に変換\n",
    "stock_info['日付'] = pd.to_datetime(stock_info['日付'])#日付の型変更\n",
    "stock_info.set_index('日付', inplace=True)\n",
    "stock_info.head()"
   ]
  },
  {
   "cell_type": "code",
   "execution_count": 7,
   "metadata": {},
   "outputs": [
    {
     "data": {
      "text/html": [
       "<div>\n",
       "<style scoped>\n",
       "    .dataframe tbody tr th:only-of-type {\n",
       "        vertical-align: middle;\n",
       "    }\n",
       "\n",
       "    .dataframe tbody tr th {\n",
       "        vertical-align: top;\n",
       "    }\n",
       "\n",
       "    .dataframe thead th {\n",
       "        text-align: right;\n",
       "    }\n",
       "</style>\n",
       "<table border=\"1\" class=\"dataframe\">\n",
       "  <thead>\n",
       "    <tr style=\"text-align: right;\">\n",
       "      <th></th>\n",
       "      <th>始値</th>\n",
       "      <th>高値</th>\n",
       "      <th>安値</th>\n",
       "      <th>終値</th>\n",
       "      <th>出来高</th>\n",
       "      <th>調整後終値*</th>\n",
       "    </tr>\n",
       "    <tr>\n",
       "      <th>日付</th>\n",
       "      <th></th>\n",
       "      <th></th>\n",
       "      <th></th>\n",
       "      <th></th>\n",
       "      <th></th>\n",
       "      <th></th>\n",
       "    </tr>\n",
       "  </thead>\n",
       "  <tbody>\n",
       "    <tr>\n",
       "      <th>2019-08-13</th>\n",
       "      <td>2635</td>\n",
       "      <td>2635</td>\n",
       "      <td>2390</td>\n",
       "      <td>2420</td>\n",
       "      <td>2519500</td>\n",
       "      <td>2420</td>\n",
       "    </tr>\n",
       "    <tr>\n",
       "      <th>2019-08-09</th>\n",
       "      <td>2816</td>\n",
       "      <td>2854</td>\n",
       "      <td>2692</td>\n",
       "      <td>2693</td>\n",
       "      <td>2514000</td>\n",
       "      <td>2693</td>\n",
       "    </tr>\n",
       "    <tr>\n",
       "      <th>2019-08-08</th>\n",
       "      <td>2899</td>\n",
       "      <td>3020</td>\n",
       "      <td>2894</td>\n",
       "      <td>2951</td>\n",
       "      <td>1533500</td>\n",
       "      <td>2951</td>\n",
       "    </tr>\n",
       "    <tr>\n",
       "      <th>2019-08-07</th>\n",
       "      <td>2875</td>\n",
       "      <td>2888</td>\n",
       "      <td>2798</td>\n",
       "      <td>2882</td>\n",
       "      <td>603900</td>\n",
       "      <td>2882</td>\n",
       "    </tr>\n",
       "    <tr>\n",
       "      <th>2019-08-06</th>\n",
       "      <td>2783</td>\n",
       "      <td>2904</td>\n",
       "      <td>2754</td>\n",
       "      <td>2855</td>\n",
       "      <td>556900</td>\n",
       "      <td>2855</td>\n",
       "    </tr>\n",
       "  </tbody>\n",
       "</table>\n",
       "</div>"
      ],
      "text/plain": [
       "              始値    高値    安値    終値      出来高  調整後終値*\n",
       "日付                                                 \n",
       "2019-08-13  2635  2635  2390  2420  2519500    2420\n",
       "2019-08-09  2816  2854  2692  2693  2514000    2693\n",
       "2019-08-08  2899  3020  2894  2951  1533500    2951\n",
       "2019-08-07  2875  2888  2798  2882   603900    2882\n",
       "2019-08-06  2783  2904  2754  2855   556900    2855"
      ]
     },
     "execution_count": 7,
     "metadata": {},
     "output_type": "execute_result"
    }
   ],
   "source": [
    "stock_info.tail()"
   ]
  },
  {
   "cell_type": "markdown",
   "metadata": {},
   "source": [
    "### 図の表示"
   ]
  },
  {
   "cell_type": "markdown",
   "metadata": {},
   "source": [
    "##### ローソクチャートの表示"
   ]
  },
  {
   "cell_type": "code",
   "execution_count": 8,
   "metadata": {},
   "outputs": [],
   "source": [
    "stock_info_=stock_info.copy()\n",
    "stock_info_.index = mdates.date2num(stock_info_.index)#日時データを数値に変換\n",
    "data = stock_info_.reset_index().values#インデックスを解除（データ列を一番左に移動）"
   ]
  },
  {
   "cell_type": "code",
   "execution_count": 9,
   "metadata": {},
   "outputs": [
    {
     "data": {
      "image/png": "[encoded data removed]",
      "text/plain": [
       "<Figure size 1008x288 with 1 Axes>"
      ]
     },
     "metadata": {
      "needs_background": "light"
     },
     "output_type": "display_data"
    }
   ],
   "source": [
    "fig = plt.figure(figsize=(14, 4))\n",
    "ax = fig.add_subplot(1, 1, 1)\n",
    "\n",
    "#ローソクチャートの表示\n",
    "mpl_finance.candlestick_ohlc(ax, data, width=1, alpha=0.5, colorup='r', colordown='b');\n",
    "ax.grid()\n",
    "\n",
    "#x軸の日時のフォーマット指定\n",
    "locator = mdates.AutoDateLocator()\n",
    "ax.xaxis.set_major_locator(locator)\n",
    "ax.xaxis.set_major_formatter(mdates.AutoDateFormatter(locator))"
   ]
  },
  {
   "cell_type": "markdown",
   "metadata": {},
   "source": [
    "##### 移動平均線の追加"
   ]
  },
  {
   "cell_type": "code",
   "execution_count": 29,
   "metadata": {},
   "outputs": [
    {
     "data": {
      "image/png": "[encoded data removed]",
      "text/plain": [
       "<Figure size 1008x288 with 1 Axes>"
      ]
     },
     "metadata": {
      "needs_background": "light"
     },
     "output_type": "display_data"
    }
   ],
   "source": [
    "fig = plt.figure(figsize=(14, 4))\n",
    "ax = fig.add_subplot(1, 1, 1)\n",
    "\n",
    "mpl_finance.candlestick_ohlc(ax, data, width=1, alpha=0.75, colorup='r', colordown='b')\n",
    "\n",
    "# 移動平均線，pandas rolling関数使用\n",
    "ax.plot(stock_info_.index, stock_info_['終値'].rolling(2, min_periods=1).mean())\n",
    "ax.plot(stock_info_.index, stock_info_['終値'].rolling(13,min_periods=1).mean())\n",
    "\n",
    "ax.grid()\n",
    "#x軸の日時のフォーマット指定\n",
    "locator = mdates.AutoDateLocator()\n",
    "ax.xaxis.set_major_locator(locator)\n",
    "ax.xaxis.set_major_formatter(mdates.AutoDateFormatter(locator))"
   ]
  },
  {
   "cell_type": "markdown",
   "metadata": {},
   "source": [
    "##### 出来高の追加"
   ]
  },
  {
   "cell_type": "code",
   "execution_count": 39,
   "metadata": {},
   "outputs": [
    {
     "data": {
      "image/png": "[encoded data removed]",
      "text/plain": [
       "<Figure size 864x288 with 2 Axes>"
      ]
     },
     "metadata": {
      "needs_background": "light"
     },
     "output_type": "display_data"
    }
   ],
   "source": [
    "fig, axes = plt.subplots(nrows=2, ncols=1, figsize=(12, 4), sharex=True,\n",
    "                         gridspec_kw={'height_ratios': [3, 1]})\n",
    "\n",
    "mpl_finance.candlestick_ohlc(axes[0], data, width=1, alpha=0.75, colorup='r', colordown='b')\n",
    "axes[0].plot(stock_info_.index, stock_info_['終値'].rolling(2).mean())\n",
    "axes[0].plot(stock_info_.index, stock_info_['終値'].rolling(8).mean())\n",
    "\n",
    "axes[1].bar(stock_info_.index, stock_info_['出来高'], width=0.5, color='navy')\n",
    "\n",
    "axes[0].grid()\n",
    "axes[1].grid()\n",
    "\n",
    "locator = mdates.AutoDateLocator()\n",
    "axes[0].xaxis.set_major_locator(locator)\n",
    "axes[0].xaxis.set_major_formatter(mdates.AutoDateFormatter(locator))"
   ]
  }
 ],
 "metadata": {
  "kernelspec": {
   "display_name": "Python 3",
   "language": "python",
   "name": "python3"
  },
  "language_info": {
   "codemirror_mode": {
    "name": "ipython",
    "version": 3
   },
   "file_extension": ".py",
   "mimetype": "text/x-python",
   "name": "python",
   "nbconvert_exporter": "python",
   "pygments_lexer": "ipython3",
   "version": "3.7.0"
  }
 },
 "nbformat": 4,
 "nbformat_minor": 2
}
